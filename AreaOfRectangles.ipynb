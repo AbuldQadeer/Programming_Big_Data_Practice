{
 "cells": [
  {
   "cell_type": "code",
   "execution_count": 4,
   "id": "8c138117",
   "metadata": {},
   "outputs": [
    {
     "name": "stdout",
     "output_type": "stream",
     "text": [
      "Enter the width of first rectangle:\n",
      "45\n",
      "Enter the length of first rectangle:\n",
      "45\n",
      "Enter the width of second rectangle:\n",
      "45\n",
      "Enter the length of second rectangle:\n",
      "45\n",
      "Both rectangles have equal areas\n"
     ]
    }
   ],
   "source": [
    "w1=int(input(\"Enter the width of first rectangle:\\n\"))\n",
    "l1=int(input(\"Enter the length of first rectangle:\\n\"))\n",
    "w2=int(input(\"Enter the width of second rectangle:\\n\"))\n",
    "l2=int(input(\"Enter the length of second rectangle:\\n\"))\n",
    "area_first_rectangle=w1*l1\n",
    "area_second_rectangle=w2*l2\n",
    "if area_first_rectangle>area_second_rectangle:\n",
    "    print(\"First Rectange has greater area\")\n",
    "elif area_first_rectangle==area_second_rectangle:\n",
    "    print(\"Both rectangles have equal areas\")\n",
    "else:\n",
    "    print(\"Second Rectange has greater area\")"
   ]
  },
  {
   "cell_type": "code",
   "execution_count": null,
   "id": "d1377b2c",
   "metadata": {},
   "outputs": [],
   "source": []
  }
 ],
 "metadata": {
  "kernelspec": {
   "display_name": "Python 3 (ipykernel)",
   "language": "python",
   "name": "python3"
  },
  "language_info": {
   "codemirror_mode": {
    "name": "ipython",
    "version": 3
   },
   "file_extension": ".py",
   "mimetype": "text/x-python",
   "name": "python",
   "nbconvert_exporter": "python",
   "pygments_lexer": "ipython3",
   "version": "3.9.7"
  }
 },
 "nbformat": 4,
 "nbformat_minor": 5
}
