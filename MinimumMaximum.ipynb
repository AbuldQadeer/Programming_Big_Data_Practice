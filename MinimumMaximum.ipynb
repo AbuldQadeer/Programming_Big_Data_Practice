{
 "cells": [
  {
   "cell_type": "code",
   "execution_count": 5,
   "id": "5ff84cb3",
   "metadata": {},
   "outputs": [
    {
     "name": "stdout",
     "output_type": "stream",
     "text": [
      "Please Enter an integer value:\n",
      "4\n",
      "Please Enter another integer value:\n",
      "4\n",
      "4 is equal to 4\n"
     ]
    }
   ],
   "source": [
    "x=int(input(\"Please Enter an integer value:\\n\"))\n",
    "y=int(input(\"Please Enter another integer value:\\n\"))\n",
    "if x>y:\n",
    "    print(x,\"is greater than\",y)\n",
    "elif x==y:\n",
    "    print(y,\"is equal to\",x)\n",
    "else:\n",
    "    print(y,\"is greater than\",x)"
   ]
  },
  {
   "cell_type": "code",
   "execution_count": null,
   "id": "9d48be6d",
   "metadata": {},
   "outputs": [],
   "source": []
  }
 ],
 "metadata": {
  "kernelspec": {
   "display_name": "Python 3 (ipykernel)",
   "language": "python",
   "name": "python3"
  },
  "language_info": {
   "codemirror_mode": {
    "name": "ipython",
    "version": 3
   },
   "file_extension": ".py",
   "mimetype": "text/x-python",
   "name": "python",
   "nbconvert_exporter": "python",
   "pygments_lexer": "ipython3",
   "version": "3.9.7"
  }
 },
 "nbformat": 4,
 "nbformat_minor": 5
}
