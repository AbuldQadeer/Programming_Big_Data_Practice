{
 "cells": [
  {
   "cell_type": "code",
   "execution_count": 2,
   "id": "b2a09abf",
   "metadata": {},
   "outputs": [
    {
     "name": "stdout",
     "output_type": "stream",
     "text": [
      "Enter a year:\n",
      "60\n",
      "Enter a month:\n",
      "6\n",
      "Enter a day:\n",
      "10\n",
      "It is a Magic Date\n"
     ]
    }
   ],
   "source": [
    "year=int(input(\"Enter a year:\\n\"))\n",
    "month=int(input(\"Enter a month:\\n\"))\n",
    "day=int(input(\"Enter a day:\\n\"))\n",
    "check=month*day\n",
    "if check==year:\n",
    "    print(\"It is a Magic Date\")\n",
    "else:\n",
    "    print(\"It is not a Magic Date\")"
   ]
  },
  {
   "cell_type": "code",
   "execution_count": null,
   "id": "d15be85a",
   "metadata": {},
   "outputs": [],
   "source": []
  }
 ],
 "metadata": {
  "kernelspec": {
   "display_name": "Python 3 (ipykernel)",
   "language": "python",
   "name": "python3"
  },
  "language_info": {
   "codemirror_mode": {
    "name": "ipython",
    "version": 3
   },
   "file_extension": ".py",
   "mimetype": "text/x-python",
   "name": "python",
   "nbconvert_exporter": "python",
   "pygments_lexer": "ipython3",
   "version": "3.9.7"
  }
 },
 "nbformat": 4,
 "nbformat_minor": 5
}
