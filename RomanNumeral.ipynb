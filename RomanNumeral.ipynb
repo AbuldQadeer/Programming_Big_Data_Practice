{
 "cells": [
  {
   "cell_type": "code",
   "execution_count": 13,
   "id": "5249be69",
   "metadata": {},
   "outputs": [
    {
     "name": "stdout",
     "output_type": "stream",
     "text": [
      "Enter an integer between 1 and 10:\n",
      "10\n",
      "X\n"
     ]
    }
   ],
   "source": [
    "check=False\n",
    "while not check:\n",
    "    x=int(input(\"Enter an integer between 1 and 10:\\n\"))\n",
    "    if x >= 1 and x<=10:\n",
    "        check=True\n",
    "if x==1:\n",
    "    print(\"I\")\n",
    "elif x==2:\n",
    "    print(\"II\")\n",
    "elif x==3:\n",
    "    print(\"III\")\n",
    "elif x==4:\n",
    "    print(\"IV\")\n",
    "elif x==5:\n",
    "    print(\"V\")\n",
    "elif x==6:\n",
    "    print(\"VI\")\n",
    "elif x==7:\n",
    "    print(\"VII\")\n",
    "elif x==8:\n",
    "    print(\"VII\")\n",
    "elif x==9:\n",
    "    print(\"IX\")\n",
    "elif x==10:\n",
    "    print(\"X\")\n",
    "else:\n",
    "    print(\"Wrong Number Entered.\\n\")"
   ]
  },
  {
   "cell_type": "code",
   "execution_count": null,
   "id": "dd66e36f",
   "metadata": {},
   "outputs": [],
   "source": []
  }
 ],
 "metadata": {
  "kernelspec": {
   "display_name": "Python 3 (ipykernel)",
   "language": "python",
   "name": "python3"
  },
  "language_info": {
   "codemirror_mode": {
    "name": "ipython",
    "version": 3
   },
   "file_extension": ".py",
   "mimetype": "text/x-python",
   "name": "python",
   "nbconvert_exporter": "python",
   "pygments_lexer": "ipython3",
   "version": "3.9.7"
  }
 },
 "nbformat": 4,
 "nbformat_minor": 5
}
