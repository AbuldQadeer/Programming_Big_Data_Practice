{
 "cells": [
  {
   "cell_type": "code",
   "execution_count": 5,
   "id": "3130cf71",
   "metadata": {},
   "outputs": [
    {
     "name": "stdout",
     "output_type": "stream",
     "text": [
      "Enter weight of the object to calculate mass:\n",
      "1\n",
      "Weight is 9\n",
      "Too light\n"
     ]
    }
   ],
   "source": [
    "mass=int(input(\"Enter weight of the object to calculate mass:\\n\"))\n",
    "weight = int(mass * 9.8)\n",
    "print(\"Weight is\",weight)\n",
    "if weight>1000:\n",
    "    print(\"Too heavy\")\n",
    "elif weight<10:\n",
    "    print(\"Too light\")"
   ]
  },
  {
   "cell_type": "code",
   "execution_count": null,
   "id": "d188aebc",
   "metadata": {},
   "outputs": [],
   "source": []
  }
 ],
 "metadata": {
  "kernelspec": {
   "display_name": "Python 3 (ipykernel)",
   "language": "python",
   "name": "python3"
  },
  "language_info": {
   "codemirror_mode": {
    "name": "ipython",
    "version": 3
   },
   "file_extension": ".py",
   "mimetype": "text/x-python",
   "name": "python",
   "nbconvert_exporter": "python",
   "pygments_lexer": "ipython3",
   "version": "3.9.7"
  }
 },
 "nbformat": 4,
 "nbformat_minor": 5
}
